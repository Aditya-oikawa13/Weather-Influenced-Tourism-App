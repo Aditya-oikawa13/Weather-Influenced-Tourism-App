{
 "cells": [
  {
   "cell_type": "code",
   "execution_count": 1,
   "metadata": {},
   "outputs": [],
   "source": [
    "from urllib.parse import urlencode\n",
    "from urllib.parse import quote\n",
    "import requests\n",
    "import pandas as pd\n",
    "import json\n",
    "from requests.adapters import HTTPAdapter\n",
    "from urllib3.util.retry import Retry"
   ]
  },
  {
   "cell_type": "code",
   "execution_count": 2,
   "metadata": {},
   "outputs": [],
   "source": [
    "file_path = 'city_ids/history.city.list.json'\n",
    "\n",
    "with open(file_path, 'r', encoding='utf-8') as file:\n",
    "    city_ids = json.load(file)\n",
    "\n",
    "\n"
   ]
  },
  {
   "cell_type": "code",
   "execution_count": 3,
   "metadata": {},
   "outputs": [],
   "source": [
    "city_ids_list = []\n",
    "for city_id in city_ids:\n",
    "    a = int(city_id['city']['id']['$numberLong'])\n",
    "    city_ids_list.append(a)"
   ]
  },
  {
   "cell_type": "code",
   "execution_count": 4,
   "metadata": {},
   "outputs": [],
   "source": [
    "def getting_historical_data(city_id,start_time):\n",
    "    api_key = '1eb23228a41c738ff1b4596d76f41a2d'\n",
    "    endpoint = f'https://history.openweathermap.org/data/2.5/history/city'\n",
    "    params = {'id': (city_id), 'type' : 'hour','start':start_time,'end':start_time + 60 * 60, 'appid': api_key }\n",
    "    url_params = urlencode(params)\n",
    "    url = f'{endpoint}?{url_params}'\n",
    "\n",
    "\n",
    "\n",
    "\n",
    "    r = requests.Session()\n",
    "    retry = Retry(connect=3, backoff_factor=0.5)\n",
    "    adapter = HTTPAdapter(max_retries=retry)\n",
    "    r.mount('http://', adapter)\n",
    "    r.mount('https://', adapter)\n",
    "\n",
    "    r = r.get(url)\n",
    "   \n",
    "    if r.status_code not in range(200,299):\n",
    "        return{}\n",
    "    weather_data = r.json()\n",
    "    try:# Extract the required information\n",
    "        cloudiness = weather_data[\"list\"][0]['clouds']['all']\n",
    "        weather_main = weather_data[\"list\"][0]['weather'][0]['main']\n",
    "        weather_description = weather_data[\"list\"][0]['weather'][0]['description']\n",
    "        temperature = weather_data['list'][0]['main']['temp']\n",
    "        feels_like = weather_data['list'][0]['main']['feels_like']\n",
    "\n",
    "        # Return the extracted information as a dictionary\n",
    "        return {\n",
    "            \"Temperature\": temperature,\n",
    "            \"Feels_Like\": feels_like,\n",
    "            \"Cloudiness\": cloudiness,\n",
    "            \"Weather_Main\": weather_main,\n",
    "            \"Weather_Description\": weather_description\n",
    "        }\n",
    "    except (json.JSONDecodeError):\n",
    "        return None    "
   ]
  },
  {
   "cell_type": "code",
   "execution_count": 5,
   "metadata": {},
   "outputs": [],
   "source": [
    "start_time = 1679750400\n",
    "sity_id = city_ids_list[:30000:2]"
   ]
  },
  {
   "cell_type": "code",
   "execution_count": 6,
   "metadata": {},
   "outputs": [
    {
     "data": {
      "text/html": [
       "<div>\n",
       "<style scoped>\n",
       "    .dataframe tbody tr th:only-of-type {\n",
       "        vertical-align: middle;\n",
       "    }\n",
       "\n",
       "    .dataframe tbody tr th {\n",
       "        vertical-align: top;\n",
       "    }\n",
       "\n",
       "    .dataframe thead th {\n",
       "        text-align: right;\n",
       "    }\n",
       "</style>\n",
       "<table border=\"1\" class=\"dataframe\">\n",
       "  <thead>\n",
       "    <tr style=\"text-align: right;\">\n",
       "      <th></th>\n",
       "      <th>Temperature</th>\n",
       "      <th>Feels_Like</th>\n",
       "      <th>Cloudiness</th>\n",
       "      <th>Weather_Main</th>\n",
       "      <th>Weather_Description</th>\n",
       "    </tr>\n",
       "  </thead>\n",
       "  <tbody>\n",
       "    <tr>\n",
       "      <th>0</th>\n",
       "      <td>287.72</td>\n",
       "      <td>286.28</td>\n",
       "      <td>86</td>\n",
       "      <td>Clouds</td>\n",
       "      <td>overcast clouds</td>\n",
       "    </tr>\n",
       "    <tr>\n",
       "      <th>1</th>\n",
       "      <td>292.19</td>\n",
       "      <td>290.72</td>\n",
       "      <td>20</td>\n",
       "      <td>Clouds</td>\n",
       "      <td>few clouds</td>\n",
       "    </tr>\n",
       "    <tr>\n",
       "      <th>2</th>\n",
       "      <td>293.51</td>\n",
       "      <td>292.41</td>\n",
       "      <td>3</td>\n",
       "      <td>Clear</td>\n",
       "      <td>clear sky</td>\n",
       "    </tr>\n",
       "    <tr>\n",
       "      <th>3</th>\n",
       "      <td>287.11</td>\n",
       "      <td>285.97</td>\n",
       "      <td>96</td>\n",
       "      <td>Rain</td>\n",
       "      <td>light rain</td>\n",
       "    </tr>\n",
       "    <tr>\n",
       "      <th>4</th>\n",
       "      <td>302.91</td>\n",
       "      <td>305.91</td>\n",
       "      <td>100</td>\n",
       "      <td>Clouds</td>\n",
       "      <td>overcast clouds</td>\n",
       "    </tr>\n",
       "  </tbody>\n",
       "</table>\n",
       "</div>"
      ],
      "text/plain": [
       "   Temperature  Feels_Like  Cloudiness Weather_Main Weather_Description\n",
       "0       287.72      286.28          86       Clouds     overcast clouds\n",
       "1       292.19      290.72          20       Clouds          few clouds\n",
       "2       293.51      292.41           3        Clear           clear sky\n",
       "3       287.11      285.97          96         Rain          light rain\n",
       "4       302.91      305.91         100       Clouds     overcast clouds"
      ]
     },
     "execution_count": 6,
     "metadata": {},
     "output_type": "execute_result"
    }
   ],
   "source": [
    "\n",
    "weather_info_list = []\n",
    "try:\n",
    "    for city_id in sity_id:\n",
    "        weather_info_list.append(getting_historical_data(city_id,start_time))\n",
    "except:\n",
    "        pass\n",
    "df = pd.DataFrame(weather_info_list)\n",
    "df.head()"
   ]
  },
  {
   "cell_type": "code",
   "execution_count": 7,
   "metadata": {},
   "outputs": [],
   "source": [
    "df.to_csv('final_data.csv')"
   ]
  }
 ],
 "metadata": {
  "kernelspec": {
   "display_name": "Python 3",
   "language": "python",
   "name": "python3"
  },
  "language_info": {
   "codemirror_mode": {
    "name": "ipython",
    "version": 3
   },
   "file_extension": ".py",
   "mimetype": "text/x-python",
   "name": "python",
   "nbconvert_exporter": "python",
   "pygments_lexer": "ipython3",
   "version": "3.9.13"
  },
  "orig_nbformat": 4
 },
 "nbformat": 4,
 "nbformat_minor": 2
}
